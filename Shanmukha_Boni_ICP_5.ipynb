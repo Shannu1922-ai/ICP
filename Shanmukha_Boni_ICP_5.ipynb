{
  "nbformat": 4,
  "nbformat_minor": 0,
  "metadata": {
    "colab": {
      "provenance": [],
      "include_colab_link": true
    },
    "kernelspec": {
      "name": "python3",
      "display_name": "Python 3"
    },
    "language_info": {
      "name": "python"
    }
  },
  "cells": [
    {
      "cell_type": "markdown",
      "metadata": {
        "id": "view-in-github",
        "colab_type": "text"
      },
      "source": [
        "<a href=\"https://colab.research.google.com/github/Shannu1922-ai/ICP/blob/main/Shanmukha_Boni_ICP_5.ipynb\" target=\"_parent\"><img src=\"https://colab.research.google.com/assets/colab-badge.svg\" alt=\"Open In Colab\"/></a>"
      ]
    },
    {
      "cell_type": "code",
      "execution_count": null,
      "metadata": {
        "id": "nSc3IOaQNQu2",
        "colab": {
          "base_uri": "https://localhost:8080/"
        },
        "outputId": "dab67511-56e5-4fa8-dc5f-c97af319b6a0"
      },
      "outputs": [
        {
          "output_type": "stream",
          "name": "stdout",
          "text": [
            "Best parameters found: {'classifier__C': 0.1, 'classifier__kernel': 'linear', 'pca__n_components': 3}\n",
            "Best cross-validation score: 0.96\n",
            "Test set score: 1.00\n"
          ]
        }
      ],
      "source": [
        "from sklearn.datasets import load_iris\n",
        "from sklearn.model_selection import GridSearchCV, train_test_split\n",
        "from sklearn.preprocessing import StandardScaler\n",
        "from sklearn.decomposition import PCA\n",
        "from sklearn.svm import SVC\n",
        "from sklearn.pipeline import Pipeline\n",
        "\n",
        "# 1. Load dataset\n",
        "X, y = load_iris(return_X_y=True)\n",
        "X_train, X_test, y_train, y_test = train_test_split(X, y, test_size=0.2, random_state=42)\n",
        "\n",
        "# 2. Create pipeline\n",
        "pipe = Pipeline([\n",
        "    ('scaler', StandardScaler()),\n",
        "    ('pca', PCA()),\n",
        "    ('classifier', SVC())\n",
        "])\n",
        "\n",
        "# 3. Define parameter grid\n",
        "param_grid = {\n",
        "    'pca__n_components': [2, 3],\n",
        "    'classifier__C': [0.1, 1, 10],\n",
        "    'classifier__kernel': ['linear', 'rbf']\n",
        "}\n",
        "\n",
        "# 4. GridSearchCV\n",
        "grid = GridSearchCV(pipe, param_grid)\n",
        "grid.fit(X_train, y_train)\n",
        "\n",
        "# 5. Results\n",
        "print(\"Best parameters found:\", grid.best_params_)\n",
        "print(\"Best cross-validation score: {:.2f}\".format(grid.best_score_))\n",
        "print(\"Test set score: {:.2f}\".format(grid.score(X_test, y_test)))\n"
      ]
    },
    {
      "cell_type": "markdown",
      "source": [
        "Check for 3 fold, 5 fold and 7 fold cross validation\n",
        "\n",
        "Replace classifier, SVC with RandomForestClassifier and LogisticRegression, Perceptron, knn .\n",
        "\n",
        "Update the param_grid accordingly (e.g., for RandomForestClassifier, use n_estimators, max_depth, etc.)\n",
        "\n",
        "Also replace Gridsearch with randomnsearch function.\n",
        "\n",
        "Relplace with with your own csv dataset using code below:"
      ],
      "metadata": {
        "id": "tqJp7J-jNbu6"
      }
    },
    {
      "cell_type": "code",
      "source": [
        "import pandas as pd\n",
        "from sklearn.model_selection import train_test_split, RandomizedSearchCV\n",
        "from sklearn.preprocessing import StandardScaler\n",
        "from sklearn.pipeline import Pipeline\n",
        "from sklearn.decomposition import PCA\n",
        "from sklearn.ensemble import RandomForestClassifier\n",
        "from sklearn.linear_model import LogisticRegression, Perceptron\n",
        "from sklearn.neighbors import KNeighborsClassifier\n",
        "from sklearn.metrics import accuracy_score\n",
        "\n",
        "import warnings\n",
        "warnings.filterwarnings(\"ignore\", category=UserWarning)\n",
        "\n",
        "# Load your dataset\n",
        "data = pd.read_csv(\"pd_speech_features.csv\")\n",
        "X = data.drop(\"class\", axis=1)\n",
        "y = data[\"class\"]\n",
        "\n",
        "X_train, X_test, y_train, y_test = train_test_split(X, y, test_size=0.2, random_state=42)\n",
        "\n",
        "# Models and their parameter grids\n",
        "models = {\n",
        "    \"RandomForest\": (RandomForestClassifier(), {\n",
        "        \"classifier__n_estimators\": [50, 100, 200],\n",
        "        \"classifier__max_depth\": [None, 10, 20]\n",
        "    }),\n",
        "    \"LogisticRegression\": (LogisticRegression(max_iter=1000), {\n",
        "        \"classifier__C\": [0.1, 1, 10],\n",
        "        \"classifier__solver\": ['lbfgs']\n",
        "    }),\n",
        "    \"Perceptron\": (Perceptron(), {\n",
        "        \"classifier__alpha\": [0.0001, 0.001],\n",
        "        \"classifier__max_iter\": [500, 1000]\n",
        "    }),\n",
        "    \"KNN\": (KNeighborsClassifier(), {\n",
        "        \"classifier__n_neighbors\": [3, 5, 7],\n",
        "        \"classifier__weights\": ['uniform', 'distance']\n",
        "    })\n",
        "}\n",
        "\n",
        "# Try different CV folds\n",
        "for model_name, (model, params) in models.items():\n",
        "    print(f\"\\n--- {model_name} ---\")\n",
        "    for cv in [3, 5, 7]:\n",
        "        pipe = Pipeline([\n",
        "            ('scaler', StandardScaler()),\n",
        "            ('pca', PCA(n_components=3)),\n",
        "            ('classifier', model)\n",
        "        ])\n",
        "        search = RandomizedSearchCV(pipe, params, n_iter=5, cv=cv, scoring='accuracy', random_state=42, n_jobs=-1)\n",
        "        search.fit(X_train, y_train)\n",
        "\n",
        "        print(f\"{cv}-Fold CV | Best Score: {search.best_score_:.2f} | Test Accuracy: {search.score(X_test, y_test):.2f}\")\n",
        "\n"
      ],
      "metadata": {
        "id": "aUipqQf8Pcao",
        "colab": {
          "base_uri": "https://localhost:8080/"
        },
        "outputId": "9ad29928-3e76-410f-a4c1-90f480a50a2a"
      },
      "execution_count": 6,
      "outputs": [
        {
          "output_type": "stream",
          "name": "stdout",
          "text": [
            "\n",
            "--- RandomForest ---\n",
            "3-Fold CV | Best Score: 0.80 | Test Accuracy: 0.79\n",
            "5-Fold CV | Best Score: 0.80 | Test Accuracy: 0.78\n",
            "7-Fold CV | Best Score: 0.79 | Test Accuracy: 0.77\n",
            "\n",
            "--- LogisticRegression ---\n",
            "3-Fold CV | Best Score: 0.79 | Test Accuracy: 0.80\n",
            "5-Fold CV | Best Score: 0.80 | Test Accuracy: 0.80\n",
            "7-Fold CV | Best Score: 0.80 | Test Accuracy: 0.80\n",
            "\n",
            "--- Perceptron ---\n",
            "3-Fold CV | Best Score: 0.72 | Test Accuracy: 0.73\n",
            "5-Fold CV | Best Score: 0.73 | Test Accuracy: 0.73\n",
            "7-Fold CV | Best Score: 0.64 | Test Accuracy: 0.73\n",
            "\n",
            "--- KNN ---\n",
            "3-Fold CV | Best Score: 0.79 | Test Accuracy: 0.83\n",
            "5-Fold CV | Best Score: 0.78 | Test Accuracy: 0.83\n",
            "7-Fold CV | Best Score: 0.79 | Test Accuracy: 0.83\n"
          ]
        }
      ]
    }
  ]
}